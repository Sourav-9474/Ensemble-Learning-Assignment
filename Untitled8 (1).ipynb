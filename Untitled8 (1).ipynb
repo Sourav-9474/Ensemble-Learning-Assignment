{
 "cells": [
  {
   "cell_type": "raw",
   "id": "77eea4e2-3c58-4be6-963e-0a1867a9827b",
   "metadata": {},
   "source": [
    "1.Can we use Bagging for regression problems?\n",
    "=> Yes. Bagging (Bootstrap Aggregating) can be used for regression. BaggingRegressor in scikit-learn is a common implementation.\n",
    "\n",
    "2. What is the difference between multiple model training and single model training?\n",
    "=> Single model training: One model is trained on the entire dataset.\n",
    "\n",
    "Multiple model training: Several models are trained (often on bootstrapped or differently sampled data), and their outputs are combined (e.g., via averaging or voting) for improved accuracy and robustness.\n",
    "\n",
    "3.  Explain the concept of feature randomness in Random Forest?\n",
    "=> In a Random Forest, at each split in a decision tree, a random subset of features is considered instead of all features. This increases diversity among trees and reduces correlation, improving generalization.\n",
    "\n",
    "4.  What is OOB (Out-of-Bag) Score?\n",
    "=>  Out-of-Bag score is an internal validation method for Bagging. Each tree is trained on a bootstrap sample (~63% of data), and the remaining (~37%) not included (OOB samples) are used to test the model's performance, giving an unbiased estimate.\n",
    "\n",
    "5.  How can you measure the importance of features in a Random Forest model?\n",
    "=>  Random Forest provides feature importances based on:\n",
    "\n",
    "Mean decrease in impurity (Gini importance): How much each feature reduces impurity across all trees.\n",
    "\n",
    "Permutation importance: How much model performance drops when a feature’s values are randomly shuffled.\n",
    "\n",
    "6.  Explain the working principle of a Bagging Classifier?\n",
    "=>  Generate multiple bootstrap samples from training data.\n",
    "\n",
    "Train a separate model (e.g., decision tree) on each sample.\n",
    "\n",
    "Aggregate predictions using majority vote (for classification).\n",
    "This reduces variance and improves stability.\n",
    "\n",
    "7.   How do you evaluate a Bagging Classifier’s performance?\n",
    "=>  Use standard metrics like:\n",
    "\n",
    "Accuracy, Precision, Recall, F1-score (for classification)\n",
    "\n",
    "Confusion matrix, ROC-AUC\n",
    "You can also use OOB score if available for quick validation.\n",
    "\n",
    "8.  How does a Bagging Regressor work?\n",
    "=>  Same idea as Bagging Classifier, but for regression:\n",
    "\n",
    "Train multiple regressors on different bootstrap samples.\n",
    "\n",
    "Aggregate their outputs using averaging to produce the final prediction.\n",
    "\n",
    "9.  What is the main advantage of ensemble techniques?\n",
    "=>  They improve performance by combining multiple models to reduce:\n",
    "\n",
    "Variance (e.g., Bagging)\n",
    "\n",
    "Bias (e.g., Boosting)\n",
    "\n",
    "Improve robustness and generalization.\n",
    "\n",
    "10.  What is the main challenge of ensemble methods?\n",
    "=>  Increased complexity and training time\n",
    "\n",
    "Interpretability is reduced compared to simple models\n",
    "\n",
    "Risk of overfitting in some ensemble methods (especially Boosting)\n",
    "\n",
    "11.  Explain the key idea behind ensemble techniques?\n",
    "=>  The key idea is to combine multiple models to get better overall performance than any single model could achieve alone, by reducing bias, variance, or both.\n",
    "\n",
    "12.   What is a Random Forest Classifier?\n",
    "=>  An ensemble of decision trees built using Bagging + random feature selection at splits.\n",
    "Predictions are made by majority vote across all trees (for classification).\n",
    "\n",
    "13.   What are the main types of ensemble techniques?\n",
    "=>  Bagging (e.g., Random Forest)\n",
    "\n",
    "Boosting (e.g., AdaBoost, XGBoost, Gradient Boosting)\n",
    "\n",
    "Stacking (combine outputs of models using a meta-learner)\n",
    "\n",
    "Voting (hard/soft majority of models)\n",
    "\n",
    "14.   What is ensemble learning in machine learning?\n",
    "=>   A technique where multiple models (often weak learners) are combined to produce a stronger overall model.\n",
    "\n",
    "15.   When should we avoid using ensemble methods?\n",
    "=>   When interpretability is crucial\n",
    "\n",
    "With very small datasets (can lead to overfitting)\n",
    "\n",
    "If computational resources are limited\n",
    "\n",
    "When a single simple model already performs well\n",
    "\n",
    "16.   How does Bagging help in reducing overfitting?\n",
    "=>   By averaging predictions of many models trained on different samples, Bagging reduces model variance, which in turn helps reduce overfitting (especially for high-variance models like decision trees).\n",
    "\n",
    "17.   Why is Random Forest better than a single Decision Tree?\n",
    "=>   More robust and generalizable\n",
    "\n",
    "Less overfitting due to averaging\n",
    "\n",
    "Exploits randomness to build diverse models\n",
    "\n",
    "18.   What is the role of bootstrap sampling in Bagging?\n",
    "=>   Bootstrap sampling allows each model to be trained on a random subset of data with replacement, introducing variation and ensuring the models are not identical.\n",
    "\n",
    "19.   What are some real-world applications of ensemble techniques?\n",
    "=>   Credit scoring\n",
    "\n",
    "Fraud detection\n",
    "\n",
    "Spam filtering\n",
    "\n",
    "Customer churn prediction\n",
    "\n",
    "Medical diagnosis\n",
    "\n",
    "Image recognition (e.g., Random Forest for classification)\n",
    "\n",
    "20.   What is the difference between Bagging and Boosting/?\n",
    "=>  Aspect\t                     Bagging\t                              Boosting\n",
    "Strategy\t                 Parallel training\t                     Sequential training\n",
    "Focus\t                      Reduces variance\t                         Reduces bias\n",
    "Sample Use\t              Bootstrap samples (with repl.)\t    Weighted samples (focus on errors)\n",
    "Model Type\t                  Independent models\t            Dependent models (each learns from previous)\n",
    "Example\t                         Random Forest\t                       AdaBoost, Gradient Boosting"
   ]
  },
  {
   "cell_type": "code",
   "execution_count": 1,
   "id": "908dc8bc-8c1c-4748-a575-e8c2e1ab2962",
   "metadata": {},
   "outputs": [
    {
     "name": "stdout",
     "output_type": "stream",
     "text": [
      "\n",
      "1. Bagging Classifier using Decision Trees\n",
      "Accuracy: 0.9590643274853801\n"
     ]
    }
   ],
   "source": [
    "# 1.  Train a Bagging Classifier using Decision Trees on a sample dataset and print model accuracy?\n",
    "from sklearn.datasets import load_breast_cancer, make_regression\n",
    "from sklearn.ensemble import BaggingClassifier, BaggingRegressor, RandomForestClassifier, RandomForestRegressor\n",
    "from sklearn.tree import DecisionTreeClassifier, DecisionTreeRegressor\n",
    "from sklearn.linear_model import LogisticRegression\n",
    "from sklearn.svm import SVC\n",
    "from sklearn.metrics import accuracy_score, mean_squared_error, roc_auc_score\n",
    "from sklearn.model_selection import train_test_split\n",
    "import matplotlib.pyplot as plt\n",
    "import numpy as np\n",
    "\n",
    "print(\"\\n1. Bagging Classifier using Decision Trees\")\n",
    "X, y = load_breast_cancer(return_X_y=True)\n",
    "X_train, X_test, y_train, y_test = train_test_split(X, y, test_size=0.3, random_state=42)\n",
    "\n",
    "bag_clf = BaggingClassifier(DecisionTreeClassifier(), n_estimators=50, random_state=42)\n",
    "bag_clf.fit(X_train, y_train)\n",
    "y_pred = bag_clf.predict(X_test)\n",
    "print(\"Accuracy:\", accuracy_score(y_test, y_pred))\n"
   ]
  },
  {
   "cell_type": "code",
   "execution_count": 3,
   "id": "e0d9445f-17be-4cb3-b1d7-410930a0f1e9",
   "metadata": {},
   "outputs": [
    {
     "name": "stdout",
     "output_type": "stream",
     "text": [
      "\n",
      "2. Bagging Regressor using Decision Trees\n",
      "MSE: 4722.678071138204\n"
     ]
    }
   ],
   "source": [
    "#2. Train a Bagging Regressor using Decision Trees and evaluate using Mean Squared Error (MSE)?\n",
    "print(\"\\n2. Bagging Regressor using Decision Trees\")\n",
    "Xr, yr = make_regression(n_samples=500, n_features=10, noise=0.3, random_state=42)\n",
    "Xr_train, Xr_test, yr_train, yr_test = train_test_split(Xr, yr, test_size=0.3, random_state=42)\n",
    "\n",
    "bag_reg = BaggingRegressor(DecisionTreeRegressor(), n_estimators=50, random_state=42)\n",
    "bag_reg.fit(Xr_train, yr_train)\n",
    "yr_pred = bag_reg.predict(Xr_test)\n",
    "print(\"MSE:\", mean_squared_error(yr_test, yr_pred))"
   ]
  },
  {
   "cell_type": "code",
   "execution_count": 5,
   "id": "2a3f37e8-1463-4365-86a2-86243bae166c",
   "metadata": {},
   "outputs": [
    {
     "name": "stdout",
     "output_type": "stream",
     "text": [
      "\n",
      "3. Random Forest Classifier with Feature Importance\n",
      "Feature 0: 0.0323\n",
      "Feature 1: 0.0111\n",
      "Feature 2: 0.0601\n",
      "Feature 3: 0.0538\n",
      "Feature 4: 0.0062\n",
      "Feature 5: 0.0092\n",
      "Feature 6: 0.0806\n",
      "Feature 7: 0.1419\n",
      "Feature 8: 0.0033\n",
      "Feature 9: 0.0031\n",
      "Feature 10: 0.0164\n",
      "Feature 11: 0.0032\n",
      "Feature 12: 0.0118\n",
      "Feature 13: 0.0295\n",
      "Feature 14: 0.0059\n",
      "Feature 15: 0.0046\n",
      "Feature 16: 0.0058\n",
      "Feature 17: 0.0034\n",
      "Feature 18: 0.0040\n",
      "Feature 19: 0.0071\n",
      "Feature 20: 0.0780\n",
      "Feature 21: 0.0188\n",
      "Feature 22: 0.0743\n",
      "Feature 23: 0.1182\n",
      "Feature 24: 0.0118\n",
      "Feature 25: 0.0175\n",
      "Feature 26: 0.0411\n",
      "Feature 27: 0.1271\n",
      "Feature 28: 0.0129\n",
      "Feature 29: 0.0069\n"
     ]
    }
   ],
   "source": [
    "#3.  Train a Random Forest Classifier on the Breast Cancer dataset and print feature importance scores?\n",
    "print(\"\\n3. Random Forest Classifier with Feature Importance\")\n",
    "rf_clf = RandomForestClassifier(n_estimators=100, random_state=42)\n",
    "rf_clf.fit(X_train, y_train)\n",
    "importances = rf_clf.feature_importances_\n",
    "for i, imp in enumerate(importances):\n",
    "    print(f\"Feature {i}: {imp:.4f}\")\n"
   ]
  },
  {
   "cell_type": "code",
   "execution_count": 7,
   "id": "8413cb25-25b9-41a9-89ab-4f2990ea81cc",
   "metadata": {},
   "outputs": [
    {
     "name": "stdout",
     "output_type": "stream",
     "text": [
      "\n",
      "4. Random Forest Regressor vs Decision Tree\n",
      "Decision Tree MSE: 12668.351423973538\n",
      "Random Forest MSE: 4466.407017115613\n"
     ]
    }
   ],
   "source": [
    "#4.  Train a Random Forest Regressor and compare its performance with a single Decision Tree?\n",
    "print(\"\\n4. Random Forest Regressor vs Decision Tree\")\n",
    "dt_reg = DecisionTreeRegressor(random_state=42)\n",
    "dt_reg.fit(Xr_train, yr_train)\n",
    "dt_pred = dt_reg.predict(Xr_test)\n",
    "\n",
    "rf_reg = RandomForestRegressor(n_estimators=100, random_state=42)\n",
    "rf_reg.fit(Xr_train, yr_train)\n",
    "rf_pred = rf_reg.predict(Xr_test)\n",
    "\n",
    "print(\"Decision Tree MSE:\", mean_squared_error(yr_test, dt_pred))\n",
    "print(\"Random Forest MSE:\", mean_squared_error(yr_test, rf_pred))"
   ]
  },
  {
   "cell_type": "code",
   "execution_count": 9,
   "id": "0233021d-b749-4761-a475-e8cfbcb9bb5b",
   "metadata": {},
   "outputs": [
    {
     "name": "stdout",
     "output_type": "stream",
     "text": [
      "\n",
      "5. OOB Score for Random Forest\n",
      "OOB Score: 0.9547738693467337\n"
     ]
    }
   ],
   "source": [
    "#5.  Compute the Out-of-Bag (OOB) Score for a Random Forest Classifier?\n",
    "print(\"\\n5. OOB Score for Random Forest\")\n",
    "rf_oob = RandomForestClassifier(n_estimators=100, oob_score=True, random_state=42)\n",
    "rf_oob.fit(X_train, y_train)\n",
    "print(\"OOB Score:\", rf_oob.oob_score_)"
   ]
  },
  {
   "cell_type": "code",
   "execution_count": 11,
   "id": "0dd84409-f8a7-42fd-ad6d-c78c052babd5",
   "metadata": {},
   "outputs": [
    {
     "name": "stdout",
     "output_type": "stream",
     "text": [
      "\n",
      "6. Bagging Classifier using SVM\n",
      "SVM Bagging Accuracy: 0.9473684210526315\n"
     ]
    }
   ],
   "source": [
    "#6. Train a Bagging Classifier using SVM as a base estimator and print accuracy?\n",
    "print(\"\\n6. Bagging Classifier using SVM\")\n",
    "svm_bag = BaggingClassifier(SVC(probability=True), n_estimators=10, random_state=42)\n",
    "svm_bag.fit(X_train, y_train)\n",
    "svm_pred = svm_bag.predict(X_test)\n",
    "print(\"SVM Bagging Accuracy:\", accuracy_score(y_test, svm_pred))\n"
   ]
  },
  {
   "cell_type": "code",
   "execution_count": 13,
   "id": "0257427b-4192-44fd-9e2b-9fd7e4be0394",
   "metadata": {},
   "outputs": [
    {
     "name": "stdout",
     "output_type": "stream",
     "text": [
      "\n",
      "7. Random Forest Classifier with varying estimators\n",
      "Trees: 10 -> Accuracy: 0.9649\n",
      "Trees: 50 -> Accuracy: 0.9708\n",
      "Trees: 100 -> Accuracy: 0.9708\n",
      "Trees: 200 -> Accuracy: 0.9708\n"
     ]
    }
   ],
   "source": [
    "#7.  Train a Random Forest Classifier with different numbers of trees and compare accuracy?\n",
    "print(\"\\n7. Random Forest Classifier with varying estimators\")\n",
    "estimators = [10, 50, 100, 200]\n",
    "accuracies = []\n",
    "\n",
    "for n in estimators:\n",
    "    model = RandomForestClassifier(n_estimators=n, random_state=42)\n",
    "    model.fit(X_train, y_train)\n",
    "    acc = accuracy_score(y_test, model.predict(X_test))\n",
    "    accuracies.append(acc)\n",
    "    print(f\"Trees: {n} -> Accuracy: {acc:.4f}\")\n"
   ]
  },
  {
   "cell_type": "code",
   "execution_count": 59,
   "id": "5d5ddd58-79ce-465f-8a14-9123381d2e8c",
   "metadata": {},
   "outputs": [
    {
     "name": "stdout",
     "output_type": "stream",
     "text": [
      "\n",
      "8. Bagging Classifier using Logistic Regression\n"
     ]
    },
    {
     "name": "stderr",
     "output_type": "stream",
     "text": [
      "C:\\Users\\soura\\anaconda3\\Lib\\site-packages\\sklearn\\linear_model\\_logistic.py:469: ConvergenceWarning: lbfgs failed to converge (status=1):\n",
      "STOP: TOTAL NO. of ITERATIONS REACHED LIMIT.\n",
      "\n",
      "Increase the number of iterations (max_iter) or scale the data as shown in:\n",
      "    https://scikit-learn.org/stable/modules/preprocessing.html\n",
      "Please also refer to the documentation for alternative solver options:\n",
      "    https://scikit-learn.org/stable/modules/linear_model.html#logistic-regression\n",
      "  n_iter_i = _check_optimize_result(\n",
      "C:\\Users\\soura\\anaconda3\\Lib\\site-packages\\sklearn\\linear_model\\_logistic.py:469: ConvergenceWarning: lbfgs failed to converge (status=1):\n",
      "STOP: TOTAL NO. of ITERATIONS REACHED LIMIT.\n",
      "\n",
      "Increase the number of iterations (max_iter) or scale the data as shown in:\n",
      "    https://scikit-learn.org/stable/modules/preprocessing.html\n",
      "Please also refer to the documentation for alternative solver options:\n",
      "    https://scikit-learn.org/stable/modules/linear_model.html#logistic-regression\n",
      "  n_iter_i = _check_optimize_result(\n",
      "C:\\Users\\soura\\anaconda3\\Lib\\site-packages\\sklearn\\linear_model\\_logistic.py:469: ConvergenceWarning: lbfgs failed to converge (status=1):\n",
      "STOP: TOTAL NO. of ITERATIONS REACHED LIMIT.\n",
      "\n",
      "Increase the number of iterations (max_iter) or scale the data as shown in:\n",
      "    https://scikit-learn.org/stable/modules/preprocessing.html\n",
      "Please also refer to the documentation for alternative solver options:\n",
      "    https://scikit-learn.org/stable/modules/linear_model.html#logistic-regression\n",
      "  n_iter_i = _check_optimize_result(\n",
      "C:\\Users\\soura\\anaconda3\\Lib\\site-packages\\sklearn\\linear_model\\_logistic.py:469: ConvergenceWarning: lbfgs failed to converge (status=1):\n",
      "STOP: TOTAL NO. of ITERATIONS REACHED LIMIT.\n",
      "\n",
      "Increase the number of iterations (max_iter) or scale the data as shown in:\n",
      "    https://scikit-learn.org/stable/modules/preprocessing.html\n",
      "Please also refer to the documentation for alternative solver options:\n",
      "    https://scikit-learn.org/stable/modules/linear_model.html#logistic-regression\n",
      "  n_iter_i = _check_optimize_result(\n",
      "C:\\Users\\soura\\anaconda3\\Lib\\site-packages\\sklearn\\linear_model\\_logistic.py:469: ConvergenceWarning: lbfgs failed to converge (status=1):\n",
      "STOP: TOTAL NO. of ITERATIONS REACHED LIMIT.\n",
      "\n",
      "Increase the number of iterations (max_iter) or scale the data as shown in:\n",
      "    https://scikit-learn.org/stable/modules/preprocessing.html\n",
      "Please also refer to the documentation for alternative solver options:\n",
      "    https://scikit-learn.org/stable/modules/linear_model.html#logistic-regression\n",
      "  n_iter_i = _check_optimize_result(\n",
      "C:\\Users\\soura\\anaconda3\\Lib\\site-packages\\sklearn\\linear_model\\_logistic.py:469: ConvergenceWarning: lbfgs failed to converge (status=1):\n",
      "STOP: TOTAL NO. of ITERATIONS REACHED LIMIT.\n",
      "\n",
      "Increase the number of iterations (max_iter) or scale the data as shown in:\n",
      "    https://scikit-learn.org/stable/modules/preprocessing.html\n",
      "Please also refer to the documentation for alternative solver options:\n",
      "    https://scikit-learn.org/stable/modules/linear_model.html#logistic-regression\n",
      "  n_iter_i = _check_optimize_result(\n",
      "C:\\Users\\soura\\anaconda3\\Lib\\site-packages\\sklearn\\linear_model\\_logistic.py:469: ConvergenceWarning: lbfgs failed to converge (status=1):\n",
      "STOP: TOTAL NO. of ITERATIONS REACHED LIMIT.\n",
      "\n",
      "Increase the number of iterations (max_iter) or scale the data as shown in:\n",
      "    https://scikit-learn.org/stable/modules/preprocessing.html\n",
      "Please also refer to the documentation for alternative solver options:\n",
      "    https://scikit-learn.org/stable/modules/linear_model.html#logistic-regression\n",
      "  n_iter_i = _check_optimize_result(\n",
      "C:\\Users\\soura\\anaconda3\\Lib\\site-packages\\sklearn\\linear_model\\_logistic.py:469: ConvergenceWarning: lbfgs failed to converge (status=1):\n",
      "STOP: TOTAL NO. of ITERATIONS REACHED LIMIT.\n",
      "\n",
      "Increase the number of iterations (max_iter) or scale the data as shown in:\n",
      "    https://scikit-learn.org/stable/modules/preprocessing.html\n",
      "Please also refer to the documentation for alternative solver options:\n",
      "    https://scikit-learn.org/stable/modules/linear_model.html#logistic-regression\n",
      "  n_iter_i = _check_optimize_result(\n",
      "C:\\Users\\soura\\anaconda3\\Lib\\site-packages\\sklearn\\linear_model\\_logistic.py:469: ConvergenceWarning: lbfgs failed to converge (status=1):\n",
      "STOP: TOTAL NO. of ITERATIONS REACHED LIMIT.\n",
      "\n",
      "Increase the number of iterations (max_iter) or scale the data as shown in:\n",
      "    https://scikit-learn.org/stable/modules/preprocessing.html\n",
      "Please also refer to the documentation for alternative solver options:\n",
      "    https://scikit-learn.org/stable/modules/linear_model.html#logistic-regression\n",
      "  n_iter_i = _check_optimize_result(\n"
     ]
    },
    {
     "name": "stdout",
     "output_type": "stream",
     "text": [
      "AUC Score: 0.9979423868312758\n"
     ]
    },
    {
     "name": "stderr",
     "output_type": "stream",
     "text": [
      "C:\\Users\\soura\\anaconda3\\Lib\\site-packages\\sklearn\\linear_model\\_logistic.py:469: ConvergenceWarning: lbfgs failed to converge (status=1):\n",
      "STOP: TOTAL NO. of ITERATIONS REACHED LIMIT.\n",
      "\n",
      "Increase the number of iterations (max_iter) or scale the data as shown in:\n",
      "    https://scikit-learn.org/stable/modules/preprocessing.html\n",
      "Please also refer to the documentation for alternative solver options:\n",
      "    https://scikit-learn.org/stable/modules/linear_model.html#logistic-regression\n",
      "  n_iter_i = _check_optimize_result(\n"
     ]
    }
   ],
   "source": [
    "#8. Train a Bagging Classifier using Logistic Regression as a base estimator and print AUC score?\n",
    "print(\"\\n8. Bagging Classifier using Logistic Regression\")\n",
    "log_bag = BaggingClassifier(LogisticRegression(max_iter=1000), n_estimators=10, random_state=42)\n",
    "log_bag.fit(X_train, y_train)\n",
    "log_proba = log_bag.predict_proba(X_test)[:, 1]\n",
    "auc = roc_auc_score(y_test, log_proba)\n",
    "print(\"AUC Score:\", auc)"
   ]
  },
  {
   "cell_type": "code",
   "execution_count": 17,
   "id": "d057efad-b5c0-4aca-83af-758fddde4241",
   "metadata": {},
   "outputs": [
    {
     "name": "stdout",
     "output_type": "stream",
     "text": [
      "\n",
      "9. Random Forest Regressor Feature Importance\n",
      "Feature 0: 0.0955\n",
      "Feature 1: 0.1452\n",
      "Feature 2: 0.0248\n",
      "Feature 3: 0.0821\n",
      "Feature 4: 0.0287\n",
      "Feature 5: 0.0195\n",
      "Feature 6: 0.3654\n",
      "Feature 7: 0.1800\n",
      "Feature 8: 0.0203\n",
      "Feature 9: 0.0386\n"
     ]
    }
   ],
   "source": [
    "#9. Train a Random Forest Regressor and analyze feature importance scores?\n",
    "print(\"\\n9. Random Forest Regressor Feature Importance\")\n",
    "rf_reg.fit(Xr_train, yr_train)\n",
    "rf_importance = rf_reg.feature_importances_\n",
    "for i, val in enumerate(rf_importance):\n",
    "    print(f\"Feature {i}: {val:.4f}\")\n"
   ]
  },
  {
   "cell_type": "code",
   "execution_count": 19,
   "id": "1c155a7c-acde-4c6b-95fd-73855009d586",
   "metadata": {},
   "outputs": [
    {
     "name": "stdout",
     "output_type": "stream",
     "text": [
      "\n",
      "10. Comparing Bagging and Random Forest\n",
      "Bagging Accuracy: 0.9590643274853801\n",
      "Random Forest Accuracy: 0.9707602339181286\n"
     ]
    }
   ],
   "source": [
    "#10.  Train an ensemble model using both Bagging and Random Forest and compare accuracy?\n",
    "print(\"\\n10. Comparing Bagging and Random Forest\")\n",
    "bagging_clf = BaggingClassifier(DecisionTreeClassifier(), n_estimators=100, random_state=42)\n",
    "rf_clf = RandomForestClassifier(n_estimators=100, random_state=42)\n",
    "\n",
    "bagging_clf.fit(X_train, y_train)\n",
    "rf_clf.fit(X_train, y_train)\n",
    "\n",
    "bag_acc = accuracy_score(y_test, bagging_clf.predict(X_test))\n",
    "rf_acc = accuracy_score(y_test, rf_clf.predict(X_test))\n",
    "\n",
    "print(\"Bagging Accuracy:\", bag_acc)\n",
    "print(\"Random Forest Accuracy:\", rf_acc)"
   ]
  },
  {
   "cell_type": "code",
   "execution_count": 21,
   "id": "a931f45b-81d1-429f-b907-26ed1a12bd99",
   "metadata": {},
   "outputs": [
    {
     "name": "stdout",
     "output_type": "stream",
     "text": [
      "\n",
      "1. Tuning Random Forest Classifier with GridSearchCV\n",
      "Best Params: {'max_depth': None, 'n_estimators': 100}\n",
      "Best Accuracy: 0.9496518987341773\n"
     ]
    }
   ],
   "source": [
    "#11. Train a Random Forest Classifier and tune hyperparameters using GridSearchCV?\n",
    "from sklearn.datasets import load_breast_cancer, make_regression\n",
    "from sklearn.ensemble import (RandomForestClassifier, BaggingClassifier, BaggingRegressor, \n",
    "                              StackingClassifier)\n",
    "from sklearn.tree import DecisionTreeClassifier, DecisionTreeRegressor\n",
    "from sklearn.linear_model import LogisticRegression\n",
    "from sklearn.svm import SVC\n",
    "from sklearn.neighbors import KNeighborsRegressor\n",
    "from sklearn.model_selection import train_test_split, GridSearchCV, cross_val_score\n",
    "from sklearn.metrics import (confusion_matrix, ConfusionMatrixDisplay, classification_report,\n",
    "                             precision_recall_fscore_support, precision_recall_curve,\n",
    "                             accuracy_score, roc_auc_score, mean_squared_error)\n",
    "import matplotlib.pyplot as plt\n",
    "import numpy as np\n",
    "\n",
    "# Dataset\n",
    "X_clf, y_clf = load_breast_cancer(return_X_y=True)\n",
    "Xr, yr = make_regression(n_samples=500, n_features=10, noise=0.2, random_state=42)\n",
    "X_train, X_test, y_train, y_test = train_test_split(X_clf, y_clf, test_size=0.3, random_state=42)\n",
    "Xr_train, Xr_test, yr_train, yr_test = train_test_split(Xr, yr, test_size=0.3, random_state=42)\n",
    "print(\"\\n1. Tuning Random Forest Classifier with GridSearchCV\")\n",
    "param_grid = {\n",
    "    'n_estimators': [50, 100],\n",
    "    'max_depth': [None, 10, 20]\n",
    "}\n",
    "grid_search = GridSearchCV(RandomForestClassifier(random_state=42), param_grid, cv=5)\n",
    "grid_search.fit(X_train, y_train)\n",
    "print(\"Best Params:\", grid_search.best_params_)\n",
    "print(\"Best Accuracy:\", grid_search.best_score_)\n"
   ]
  },
  {
   "cell_type": "code",
   "execution_count": 23,
   "id": "913f833f-4aa4-4dac-a637-0e464c055036",
   "metadata": {},
   "outputs": [
    {
     "name": "stdout",
     "output_type": "stream",
     "text": [
      "\n",
      "2. Bagging Regressor with varying estimators\n",
      "Estimators: 10, MSE: 6112.1588\n",
      "Estimators: 50, MSE: 4829.3669\n",
      "Estimators: 100, MSE: 4477.4444\n"
     ]
    }
   ],
   "source": [
    "#12. Train a Bagging Regressor with different numbers of base estimators and compare performance?\n",
    "print(\"\\n2. Bagging Regressor with varying estimators\")\n",
    "for n in [10, 50, 100]:\n",
    "    bag_reg = BaggingRegressor(n_estimators=n, random_state=42)\n",
    "    bag_reg.fit(Xr_train, yr_train)\n",
    "    pred = bag_reg.predict(Xr_test)\n",
    "    print(f\"Estimators: {n}, MSE: {mean_squared_error(yr_test, pred):.4f}\")"
   ]
  },
  {
   "cell_type": "code",
   "execution_count": 29,
   "id": "baeda961-48fb-4f3d-9f24-6d72b3372e31",
   "metadata": {},
   "outputs": [
    {
     "name": "stdout",
     "output_type": "stream",
     "text": [
      "\n",
      "3. Analyzing Misclassified Samples\n",
      "Number of misclassified samples: 5\n"
     ]
    }
   ],
   "source": [
    "#13. Train a Random Forest Classifier and analyze misclassified samples?\n",
    "\n",
    "print(\"\\n3. Analyzing Misclassified Samples\")\n",
    "rf = RandomForestClassifier(random_state=42)\n",
    "rf.fit(X_train, y_train)\n",
    "pred = rf.predict(X_test)\n",
    "misclassified = X_test[pred != y_test]\n",
    "print(f\"Number of misclassified samples: {len(misclassified)}\")"
   ]
  },
  {
   "cell_type": "code",
   "execution_count": 61,
   "id": "d27960e6-3176-4581-9237-a2af01454eef",
   "metadata": {},
   "outputs": [
    {
     "ename": "TypeError",
     "evalue": "BaggingClassifier.__init__() got an unexpected keyword argument 'base_estimator'",
     "output_type": "error",
     "traceback": [
      "\u001b[1;31m---------------------------------------------------------------------------\u001b[0m",
      "\u001b[1;31mTypeError\u001b[0m                                 Traceback (most recent call last)",
      "Cell \u001b[1;32mIn[61], line 19\u001b[0m\n\u001b[0;32m     16\u001b[0m dt_acc \u001b[38;5;241m=\u001b[39m accuracy_score(y_test, dt_pred)\n\u001b[0;32m     18\u001b[0m \u001b[38;5;66;03m# Train a Bagging Classifier using Decision Tree as base estimator\u001b[39;00m\n\u001b[1;32m---> 19\u001b[0m bagging_clf \u001b[38;5;241m=\u001b[39m BaggingClassifier(\n\u001b[0;32m     20\u001b[0m     base_estimator\u001b[38;5;241m=\u001b[39mDecisionTreeClassifier(random_state\u001b[38;5;241m=\u001b[39m\u001b[38;5;241m42\u001b[39m),\n\u001b[0;32m     21\u001b[0m     n_estimators\u001b[38;5;241m=\u001b[39m\u001b[38;5;241m50\u001b[39m,\n\u001b[0;32m     22\u001b[0m     random_state\u001b[38;5;241m=\u001b[39m\u001b[38;5;241m42\u001b[39m\n\u001b[0;32m     23\u001b[0m )\n\u001b[0;32m     24\u001b[0m bagging_clf\u001b[38;5;241m.\u001b[39mfit(X_train, y_train)\n\u001b[0;32m     25\u001b[0m bag_pred \u001b[38;5;241m=\u001b[39m bagging_clf\u001b[38;5;241m.\u001b[39mpredict(X_test)\n",
      "\u001b[1;31mTypeError\u001b[0m: BaggingClassifier.__init__() got an unexpected keyword argument 'base_estimator'"
     ]
    }
   ],
   "source": [
    "#14.  Train a Bagging Classifier and compare its performance with a single Decision Tree Classifier?\n",
    "from sklearn.datasets import load_breast_cancer\n",
    "from sklearn.model_selection import train_test_split\n",
    "from sklearn.tree import DecisionTreeClassifier\n",
    "from sklearn.ensemble import BaggingClassifier\n",
    "from sklearn.metrics import accuracy_score\n",
    "\n",
    "# Load dataset\n",
    "X, y = load_breast_cancer(return_X_y=True)\n",
    "X_train, X_test, y_train, y_test = train_test_split(X, y, test_size=0.3, random_state=42)\n",
    "\n",
    "# Train a single Decision Tree\n",
    "dt = DecisionTreeClassifier(random_state=42)\n",
    "dt.fit(X_train, y_train)\n",
    "dt_pred = dt.predict(X_test)\n",
    "dt_acc = accuracy_score(y_test, dt_pred)\n",
    "\n",
    "# Train a Bagging Classifier using Decision Tree as base estimator\n",
    "bagging_clf = BaggingClassifier(\n",
    "    base_estimator=DecisionTreeClassifier(random_state=42),\n",
    "    n_estimators=50,\n",
    "    random_state=42\n",
    ")\n",
    "bagging_clf.fit(X_train, y_train)\n",
    "bag_pred = bagging_clf.predict(X_test)\n",
    "bag_acc = accuracy_score(y_test, bag_pred)\n",
    "\n",
    "# Print performance comparison\n",
    "print(f\"Decision Tree Accuracy: {dt_acc:.4f}\")\n",
    "print(f\"Bagging Classifier Accuracy: {bag_acc:.4f}\")\n",
    "\n"
   ]
  },
  {
   "cell_type": "code",
   "execution_count": 33,
   "id": "8058ba89-ffc3-4d39-9da4-9ae9dd4a1a87",
   "metadata": {},
   "outputs": [
    {
     "name": "stdout",
     "output_type": "stream",
     "text": [
      "\n",
      "5. Confusion Matrix\n"
     ]
    },
    {
     "data": {
      "image/png": "[encoded data removed]",
      "text/plain": [
       "<Figure size 640x480 with 2 Axes>"
      ]
     },
     "metadata": {},
     "output_type": "display_data"
    }
   ],
   "source": [
    "#15.  Train a Random Forest Classifier and visualize the confusion matrix?\n",
    "print(\"\\n5. Confusion Matrix\")\n",
    "disp = ConfusionMatrixDisplay(confusion_matrix(y_test, pred))\n",
    "disp.plot()\n",
    "plt.title(\"Random Forest Confusion Matrix\")\n",
    "plt.show()"
   ]
  },
  {
   "cell_type": "code",
   "execution_count": 35,
   "id": "cc329b73-2cb7-4db1-a25f-b33977597268",
   "metadata": {},
   "outputs": [
    {
     "name": "stdout",
     "output_type": "stream",
     "text": [
      "\n",
      "6. Stacking Classifier\n"
     ]
    },
    {
     "name": "stderr",
     "output_type": "stream",
     "text": [
      "C:\\Users\\soura\\anaconda3\\Lib\\site-packages\\sklearn\\linear_model\\_logistic.py:469: ConvergenceWarning: lbfgs failed to converge (status=1):\n",
      "STOP: TOTAL NO. of ITERATIONS REACHED LIMIT.\n",
      "\n",
      "Increase the number of iterations (max_iter) or scale the data as shown in:\n",
      "    https://scikit-learn.org/stable/modules/preprocessing.html\n",
      "Please also refer to the documentation for alternative solver options:\n",
      "    https://scikit-learn.org/stable/modules/linear_model.html#logistic-regression\n",
      "  n_iter_i = _check_optimize_result(\n",
      "C:\\Users\\soura\\anaconda3\\Lib\\site-packages\\sklearn\\linear_model\\_logistic.py:469: ConvergenceWarning: lbfgs failed to converge (status=1):\n",
      "STOP: TOTAL NO. of ITERATIONS REACHED LIMIT.\n",
      "\n",
      "Increase the number of iterations (max_iter) or scale the data as shown in:\n",
      "    https://scikit-learn.org/stable/modules/preprocessing.html\n",
      "Please also refer to the documentation for alternative solver options:\n",
      "    https://scikit-learn.org/stable/modules/linear_model.html#logistic-regression\n",
      "  n_iter_i = _check_optimize_result(\n",
      "C:\\Users\\soura\\anaconda3\\Lib\\site-packages\\sklearn\\linear_model\\_logistic.py:469: ConvergenceWarning: lbfgs failed to converge (status=1):\n",
      "STOP: TOTAL NO. of ITERATIONS REACHED LIMIT.\n",
      "\n",
      "Increase the number of iterations (max_iter) or scale the data as shown in:\n",
      "    https://scikit-learn.org/stable/modules/preprocessing.html\n",
      "Please also refer to the documentation for alternative solver options:\n",
      "    https://scikit-learn.org/stable/modules/linear_model.html#logistic-regression\n",
      "  n_iter_i = _check_optimize_result(\n",
      "C:\\Users\\soura\\anaconda3\\Lib\\site-packages\\sklearn\\linear_model\\_logistic.py:469: ConvergenceWarning: lbfgs failed to converge (status=1):\n",
      "STOP: TOTAL NO. of ITERATIONS REACHED LIMIT.\n",
      "\n",
      "Increase the number of iterations (max_iter) or scale the data as shown in:\n",
      "    https://scikit-learn.org/stable/modules/preprocessing.html\n",
      "Please also refer to the documentation for alternative solver options:\n",
      "    https://scikit-learn.org/stable/modules/linear_model.html#logistic-regression\n",
      "  n_iter_i = _check_optimize_result(\n",
      "C:\\Users\\soura\\anaconda3\\Lib\\site-packages\\sklearn\\linear_model\\_logistic.py:469: ConvergenceWarning: lbfgs failed to converge (status=1):\n",
      "STOP: TOTAL NO. of ITERATIONS REACHED LIMIT.\n",
      "\n",
      "Increase the number of iterations (max_iter) or scale the data as shown in:\n",
      "    https://scikit-learn.org/stable/modules/preprocessing.html\n",
      "Please also refer to the documentation for alternative solver options:\n",
      "    https://scikit-learn.org/stable/modules/linear_model.html#logistic-regression\n",
      "  n_iter_i = _check_optimize_result(\n"
     ]
    },
    {
     "name": "stdout",
     "output_type": "stream",
     "text": [
      "Stacking Accuracy: 0.9707602339181286\n"
     ]
    },
    {
     "name": "stderr",
     "output_type": "stream",
     "text": [
      "C:\\Users\\soura\\anaconda3\\Lib\\site-packages\\sklearn\\linear_model\\_logistic.py:469: ConvergenceWarning: lbfgs failed to converge (status=1):\n",
      "STOP: TOTAL NO. of ITERATIONS REACHED LIMIT.\n",
      "\n",
      "Increase the number of iterations (max_iter) or scale the data as shown in:\n",
      "    https://scikit-learn.org/stable/modules/preprocessing.html\n",
      "Please also refer to the documentation for alternative solver options:\n",
      "    https://scikit-learn.org/stable/modules/linear_model.html#logistic-regression\n",
      "  n_iter_i = _check_optimize_result(\n"
     ]
    }
   ],
   "source": [
    "#16.  Train a Stacking Classifier using Decision Trees, SVM, and Logistic Regression, and compare accuracy?\n",
    "print(\"\\n6. Stacking Classifier\")\n",
    "stack = StackingClassifier(\n",
    "    estimators=[('dt', DecisionTreeClassifier()),\n",
    "                ('svm', SVC(probability=True)),\n",
    "                ('lr', LogisticRegression(max_iter=1000))],\n",
    "    final_estimator=LogisticRegression()\n",
    ")\n",
    "stack.fit(X_train, y_train)\n",
    "print(\"Stacking Accuracy:\", stack.score(X_test, y_test))"
   ]
  },
  {
   "cell_type": "code",
   "execution_count": 39,
   "id": "0fbb959e-28c6-4af9-b40d-33acce09c501",
   "metadata": {},
   "outputs": [
    {
     "name": "stdout",
     "output_type": "stream",
     "text": [
      "\n",
      "7. Top 5 Features in Random Forest\n",
      "Feature 7, Importance: 0.1419\n",
      "Feature 27, Importance: 0.1271\n",
      "Feature 23, Importance: 0.1182\n",
      "Feature 6, Importance: 0.0806\n",
      "Feature 20, Importance: 0.0780\n"
     ]
    }
   ],
   "source": [
    "#17.  Train a Random Forest Classifier and print the top 5 most important features?\n",
    "print(\"\\n7. Top 5 Features in Random Forest\")\n",
    "importances = rf.feature_importances_\n",
    "top5_idx = np.argsort(importances)[-5:][::-1]\n",
    "for i in top5_idx:\n",
    "    print(f\"Feature {i}, Importance: {importances[i]:.4f}\")"
   ]
  },
  {
   "cell_type": "code",
   "execution_count": 41,
   "id": "3ed57449-20e5-4d56-aa5b-7fc64168780d",
   "metadata": {},
   "outputs": [
    {
     "name": "stdout",
     "output_type": "stream",
     "text": [
      "\n",
      "8. Evaluation of BaggingClassifier\n"
     ]
    },
    {
     "ename": "NameError",
     "evalue": "name 'bag_dt' is not defined",
     "output_type": "error",
     "traceback": [
      "\u001b[1;31m---------------------------------------------------------------------------\u001b[0m",
      "\u001b[1;31mNameError\u001b[0m                                 Traceback (most recent call last)",
      "Cell \u001b[1;32mIn[41], line 3\u001b[0m\n\u001b[0;32m      1\u001b[0m \u001b[38;5;66;03m#18.  Train a Bagging Classifier and evaluate performance using Precision, Recall, and F1-score?\u001b[39;00m\n\u001b[0;32m      2\u001b[0m \u001b[38;5;28mprint\u001b[39m(\u001b[38;5;124m\"\u001b[39m\u001b[38;5;130;01m\\n\u001b[39;00m\u001b[38;5;124m8. Evaluation of BaggingClassifier\u001b[39m\u001b[38;5;124m\"\u001b[39m)\n\u001b[1;32m----> 3\u001b[0m y_pred_bag \u001b[38;5;241m=\u001b[39m bag_dt\u001b[38;5;241m.\u001b[39mpredict(X_test)\n\u001b[0;32m      4\u001b[0m precision, recall, f1, _ \u001b[38;5;241m=\u001b[39m precision_recall_fscore_support(y_test, y_pred_bag, average\u001b[38;5;241m=\u001b[39m\u001b[38;5;124m'\u001b[39m\u001b[38;5;124mbinary\u001b[39m\u001b[38;5;124m'\u001b[39m)\n\u001b[0;32m      5\u001b[0m \u001b[38;5;28mprint\u001b[39m(\u001b[38;5;124mf\u001b[39m\u001b[38;5;124m\"\u001b[39m\u001b[38;5;124mPrecision: \u001b[39m\u001b[38;5;132;01m{\u001b[39;00mprecision\u001b[38;5;132;01m:\u001b[39;00m\u001b[38;5;124m.2f\u001b[39m\u001b[38;5;132;01m}\u001b[39;00m\u001b[38;5;124m, Recall: \u001b[39m\u001b[38;5;132;01m{\u001b[39;00mrecall\u001b[38;5;132;01m:\u001b[39;00m\u001b[38;5;124m.2f\u001b[39m\u001b[38;5;132;01m}\u001b[39;00m\u001b[38;5;124m, F1: \u001b[39m\u001b[38;5;132;01m{\u001b[39;00mf1\u001b[38;5;132;01m:\u001b[39;00m\u001b[38;5;124m.2f\u001b[39m\u001b[38;5;132;01m}\u001b[39;00m\u001b[38;5;124m\"\u001b[39m)\n",
      "\u001b[1;31mNameError\u001b[0m: name 'bag_dt' is not defined"
     ]
    }
   ],
   "source": [
    "#18.  Train a Bagging Classifier and evaluate performance using Precision, Recall, and F1-score?\n",
    "print(\"\\n8. Evaluation of BaggingClassifier\")\n",
    "y_pred_bag = bag_dt.predict(X_test)\n",
    "precision, recall, f1, _ = precision_recall_fscore_support(y_test, y_pred_bag, average='binary')\n",
    "print(f\"Precision: {precision:.2f}, Recall: {recall:.2f}, F1: {f1:.2f}\")\n"
   ]
  },
  {
   "cell_type": "code",
   "execution_count": 43,
   "id": "a8c0326f-c637-4c33-9a47-1d66d075e9cb",
   "metadata": {},
   "outputs": [
    {
     "name": "stdout",
     "output_type": "stream",
     "text": [
      "\n",
      "9. Effect of max_depth\n",
      "max_depth=3, Accuracy=0.9708\n",
      "max_depth=5, Accuracy=0.9649\n",
      "max_depth=10, Accuracy=0.9708\n",
      "max_depth=None, Accuracy=0.9708\n"
     ]
    }
   ],
   "source": [
    "#19. Train a Random Forest Classifier and analyze the effect of max_depth on accuracy?\n",
    "print(\"\\n9. Effect of max_depth\")\n",
    "for depth in [3, 5, 10, None]:\n",
    "    model = RandomForestClassifier(max_depth=depth, random_state=42)\n",
    "    model.fit(X_train, y_train)\n",
    "    acc = model.score(X_test, y_test)\n",
    "    print(f\"max_depth={depth}, Accuracy={acc:.4f}\")"
   ]
  },
  {
   "cell_type": "code",
   "execution_count": 45,
   "id": "25e30efd-ca58-4ad9-8acc-0c3665f3f51c",
   "metadata": {},
   "outputs": [
    {
     "name": "stdout",
     "output_type": "stream",
     "text": [
      "\n",
      "10. Comparing base estimators in Bagging Regressor\n"
     ]
    },
    {
     "ename": "TypeError",
     "evalue": "BaggingRegressor.__init__() got an unexpected keyword argument 'base_estimator'",
     "output_type": "error",
     "traceback": [
      "\u001b[1;31m---------------------------------------------------------------------------\u001b[0m",
      "\u001b[1;31mTypeError\u001b[0m                                 Traceback (most recent call last)",
      "Cell \u001b[1;32mIn[45], line 4\u001b[0m\n\u001b[0;32m      2\u001b[0m \u001b[38;5;28mprint\u001b[39m(\u001b[38;5;124m\"\u001b[39m\u001b[38;5;130;01m\\n\u001b[39;00m\u001b[38;5;124m10. Comparing base estimators in Bagging Regressor\u001b[39m\u001b[38;5;124m\"\u001b[39m)\n\u001b[0;32m      3\u001b[0m \u001b[38;5;28;01mfor\u001b[39;00m base \u001b[38;5;129;01min\u001b[39;00m [DecisionTreeRegressor(), KNeighborsRegressor()]:\n\u001b[1;32m----> 4\u001b[0m     br \u001b[38;5;241m=\u001b[39m BaggingRegressor(base_estimator\u001b[38;5;241m=\u001b[39mbase, n_estimators\u001b[38;5;241m=\u001b[39m\u001b[38;5;241m20\u001b[39m, random_state\u001b[38;5;241m=\u001b[39m\u001b[38;5;241m42\u001b[39m)\n\u001b[0;32m      5\u001b[0m     br\u001b[38;5;241m.\u001b[39mfit(Xr_train, yr_train)\n\u001b[0;32m      6\u001b[0m     \u001b[38;5;28mprint\u001b[39m(\u001b[38;5;124mf\u001b[39m\u001b[38;5;124m\"\u001b[39m\u001b[38;5;124mBase: \u001b[39m\u001b[38;5;132;01m{\u001b[39;00m\u001b[38;5;28mtype\u001b[39m(base)\u001b[38;5;241m.\u001b[39m\u001b[38;5;18m__name__\u001b[39m\u001b[38;5;132;01m}\u001b[39;00m\u001b[38;5;124m, MSE: \u001b[39m\u001b[38;5;132;01m{\u001b[39;00mmean_squared_error(yr_test,\u001b[38;5;250m \u001b[39mbr\u001b[38;5;241m.\u001b[39mpredict(Xr_test))\u001b[38;5;132;01m:\u001b[39;00m\u001b[38;5;124m.4f\u001b[39m\u001b[38;5;132;01m}\u001b[39;00m\u001b[38;5;124m\"\u001b[39m)\n",
      "\u001b[1;31mTypeError\u001b[0m: BaggingRegressor.__init__() got an unexpected keyword argument 'base_estimator'"
     ]
    }
   ],
   "source": [
    "#20.  Train a Bagging Regressor using different base estimators (DecisionTree and KNeighbors) and compare performance\n",
    "print(\"\\n10. Comparing base estimators in Bagging Regressor\")\n",
    "for base in [DecisionTreeRegressor(), KNeighborsRegressor()]:\n",
    "    br = BaggingRegressor(base_estimator=base, n_estimators=20, random_state=42)\n",
    "    br.fit(Xr_train, yr_train)\n",
    "    print(f\"Base: {type(base).__name__}, MSE: {mean_squared_error(yr_test, br.predict(Xr_test)):.4f}\")"
   ]
  },
  {
   "cell_type": "code",
   "execution_count": 47,
   "id": "f6d5545f-904c-4c86-9fad-0f9684a42786",
   "metadata": {},
   "outputs": [
    {
     "name": "stdout",
     "output_type": "stream",
     "text": [
      "\n",
      "11. ROC-AUC Score for Random Forest\n",
      "ROC-AUC Score: 0.9968\n"
     ]
    }
   ],
   "source": [
    "#21.  Train a Random Forest Classifier and evaluate its performance using ROC-AUC Score?\n",
    "print(\"\\n11. ROC-AUC Score for Random Forest\")\n",
    "rf_proba = rf.predict_proba(X_test)[:, 1]\n",
    "roc_auc = roc_auc_score(y_test, rf_proba)\n",
    "print(f\"ROC-AUC Score: {roc_auc:.4f}\")\n"
   ]
  },
  {
   "cell_type": "code",
   "execution_count": 49,
   "id": "5437ec7c-025f-46b1-91ce-576f9d465d7e",
   "metadata": {},
   "outputs": [
    {
     "name": "stdout",
     "output_type": "stream",
     "text": [
      "\n",
      "12. Cross-Validation on Bagging Classifier\n"
     ]
    },
    {
     "ename": "NameError",
     "evalue": "name 'bag_dt' is not defined",
     "output_type": "error",
     "traceback": [
      "\u001b[1;31m---------------------------------------------------------------------------\u001b[0m",
      "\u001b[1;31mNameError\u001b[0m                                 Traceback (most recent call last)",
      "Cell \u001b[1;32mIn[49], line 3\u001b[0m\n\u001b[0;32m      1\u001b[0m \u001b[38;5;66;03m#22.  Train a Bagging Classifier and evaluate its performance using cross-validation \u001b[39;00m\n\u001b[0;32m      2\u001b[0m \u001b[38;5;28mprint\u001b[39m(\u001b[38;5;124m\"\u001b[39m\u001b[38;5;130;01m\\n\u001b[39;00m\u001b[38;5;124m12. Cross-Validation on Bagging Classifier\u001b[39m\u001b[38;5;124m\"\u001b[39m)\n\u001b[1;32m----> 3\u001b[0m cv_scores \u001b[38;5;241m=\u001b[39m cross_val_score(bag_dt, X_clf, y_clf, cv\u001b[38;5;241m=\u001b[39m\u001b[38;5;241m5\u001b[39m, scoring\u001b[38;5;241m=\u001b[39m\u001b[38;5;124m'\u001b[39m\u001b[38;5;124maccuracy\u001b[39m\u001b[38;5;124m'\u001b[39m)\n\u001b[0;32m      4\u001b[0m \u001b[38;5;28mprint\u001b[39m(\u001b[38;5;124m\"\u001b[39m\u001b[38;5;124mCV Accuracy Scores:\u001b[39m\u001b[38;5;124m\"\u001b[39m, cv_scores)\n\u001b[0;32m      5\u001b[0m \u001b[38;5;28mprint\u001b[39m(\u001b[38;5;124m\"\u001b[39m\u001b[38;5;124mMean Accuracy:\u001b[39m\u001b[38;5;124m\"\u001b[39m, np\u001b[38;5;241m.\u001b[39mmean(cv_scores))\n",
      "\u001b[1;31mNameError\u001b[0m: name 'bag_dt' is not defined"
     ]
    }
   ],
   "source": [
    "#22.  Train a Bagging Classifier and evaluate its performance using cross-validation \n",
    "print(\"\\n12. Cross-Validation on Bagging Classifier\")\n",
    "cv_scores = cross_val_score(bag_dt, X_clf, y_clf, cv=5, scoring='accuracy')\n",
    "print(\"CV Accuracy Scores:\", cv_scores)\n",
    "print(\"Mean Accuracy:\", np.mean(cv_scores))\n"
   ]
  },
  {
   "cell_type": "code",
   "execution_count": 51,
   "id": "137517bc-3e1a-46a3-b5c8-24b6cc807b11",
   "metadata": {},
   "outputs": [
    {
     "name": "stdout",
     "output_type": "stream",
     "text": [
      "\n",
      "13. Precision-Recall Curve\n"
     ]
    },
    {
     "data": {
      "image/png": "[encoded data removed]",
      "text/plain": [
       "<Figure size 640x480 with 1 Axes>"
      ]
     },
     "metadata": {},
     "output_type": "display_data"
    }
   ],
   "source": [
    "#23. Train a Random Forest Classifier and plot the Precision-Recall curve?\n",
    "print(\"\\n13. Precision-Recall Curve\")\n",
    "precision, recall, _ = precision_recall_curve(y_test, rf_proba)\n",
    "plt.plot(recall, precision, marker='.')\n",
    "plt.title(\"Precision-Recall Curve - Random Forest\")\n",
    "plt.xlabel(\"Recall\")\n",
    "plt.ylabel(\"Precision\")\n",
    "plt.grid()\n",
    "plt.show()"
   ]
  },
  {
   "cell_type": "code",
   "execution_count": 53,
   "id": "841e634f-214b-40d5-a0d5-36c5db82a15d",
   "metadata": {},
   "outputs": [
    {
     "name": "stdout",
     "output_type": "stream",
     "text": [
      "\n",
      "14. Stacking Classifier with RF and Logistic Regression\n"
     ]
    },
    {
     "name": "stderr",
     "output_type": "stream",
     "text": [
      "C:\\Users\\soura\\anaconda3\\Lib\\site-packages\\sklearn\\linear_model\\_logistic.py:469: ConvergenceWarning: lbfgs failed to converge (status=1):\n",
      "STOP: TOTAL NO. of ITERATIONS REACHED LIMIT.\n",
      "\n",
      "Increase the number of iterations (max_iter) or scale the data as shown in:\n",
      "    https://scikit-learn.org/stable/modules/preprocessing.html\n",
      "Please also refer to the documentation for alternative solver options:\n",
      "    https://scikit-learn.org/stable/modules/linear_model.html#logistic-regression\n",
      "  n_iter_i = _check_optimize_result(\n",
      "C:\\Users\\soura\\anaconda3\\Lib\\site-packages\\sklearn\\linear_model\\_logistic.py:469: ConvergenceWarning: lbfgs failed to converge (status=1):\n",
      "STOP: TOTAL NO. of ITERATIONS REACHED LIMIT.\n",
      "\n",
      "Increase the number of iterations (max_iter) or scale the data as shown in:\n",
      "    https://scikit-learn.org/stable/modules/preprocessing.html\n",
      "Please also refer to the documentation for alternative solver options:\n",
      "    https://scikit-learn.org/stable/modules/linear_model.html#logistic-regression\n",
      "  n_iter_i = _check_optimize_result(\n",
      "C:\\Users\\soura\\anaconda3\\Lib\\site-packages\\sklearn\\linear_model\\_logistic.py:469: ConvergenceWarning: lbfgs failed to converge (status=1):\n",
      "STOP: TOTAL NO. of ITERATIONS REACHED LIMIT.\n",
      "\n",
      "Increase the number of iterations (max_iter) or scale the data as shown in:\n",
      "    https://scikit-learn.org/stable/modules/preprocessing.html\n",
      "Please also refer to the documentation for alternative solver options:\n",
      "    https://scikit-learn.org/stable/modules/linear_model.html#logistic-regression\n",
      "  n_iter_i = _check_optimize_result(\n",
      "C:\\Users\\soura\\anaconda3\\Lib\\site-packages\\sklearn\\linear_model\\_logistic.py:469: ConvergenceWarning: lbfgs failed to converge (status=1):\n",
      "STOP: TOTAL NO. of ITERATIONS REACHED LIMIT.\n",
      "\n",
      "Increase the number of iterations (max_iter) or scale the data as shown in:\n",
      "    https://scikit-learn.org/stable/modules/preprocessing.html\n",
      "Please also refer to the documentation for alternative solver options:\n",
      "    https://scikit-learn.org/stable/modules/linear_model.html#logistic-regression\n",
      "  n_iter_i = _check_optimize_result(\n",
      "C:\\Users\\soura\\anaconda3\\Lib\\site-packages\\sklearn\\linear_model\\_logistic.py:469: ConvergenceWarning: lbfgs failed to converge (status=1):\n",
      "STOP: TOTAL NO. of ITERATIONS REACHED LIMIT.\n",
      "\n",
      "Increase the number of iterations (max_iter) or scale the data as shown in:\n",
      "    https://scikit-learn.org/stable/modules/preprocessing.html\n",
      "Please also refer to the documentation for alternative solver options:\n",
      "    https://scikit-learn.org/stable/modules/linear_model.html#logistic-regression\n",
      "  n_iter_i = _check_optimize_result(\n"
     ]
    },
    {
     "name": "stdout",
     "output_type": "stream",
     "text": [
      "Stacked (RF+LR) Accuracy: 0.9707602339181286\n"
     ]
    },
    {
     "name": "stderr",
     "output_type": "stream",
     "text": [
      "C:\\Users\\soura\\anaconda3\\Lib\\site-packages\\sklearn\\linear_model\\_logistic.py:469: ConvergenceWarning: lbfgs failed to converge (status=1):\n",
      "STOP: TOTAL NO. of ITERATIONS REACHED LIMIT.\n",
      "\n",
      "Increase the number of iterations (max_iter) or scale the data as shown in:\n",
      "    https://scikit-learn.org/stable/modules/preprocessing.html\n",
      "Please also refer to the documentation for alternative solver options:\n",
      "    https://scikit-learn.org/stable/modules/linear_model.html#logistic-regression\n",
      "  n_iter_i = _check_optimize_result(\n"
     ]
    }
   ],
   "source": [
    "#24.  Train a Stacking Classifier with Random Forest and Logistic Regression and compare accuracy?\n",
    "print(\"\\n14. Stacking Classifier with RF and Logistic Regression\")\n",
    "stack2 = StackingClassifier(\n",
    "    estimators=[('rf', RandomForestClassifier(n_estimators=100, random_state=42)),\n",
    "                ('lr', LogisticRegression(max_iter=1000))],\n",
    "    final_estimator=LogisticRegression()\n",
    ")\n",
    "stack2.fit(X_train, y_train)\n",
    "print(\"Stacked (RF+LR) Accuracy:\", stack2.score(X_test, y_test))\n"
   ]
  },
  {
   "cell_type": "code",
   "execution_count": 55,
   "id": "c7ffb68d-3f6d-458f-81fe-a737d2173d53",
   "metadata": {},
   "outputs": [
    {
     "name": "stdout",
     "output_type": "stream",
     "text": [
      "\n",
      "15. Varying bootstrap sample sizes in Bagging Regressor\n",
      "Max Samples: 0.5, MSE: 5145.8622\n",
      "Max Samples: 0.7, MSE: 4851.2217\n",
      "Max Samples: 1.0, MSE: 4829.3669\n"
     ]
    }
   ],
   "source": [
    "#25. Train a Bagging Regressor with different levels of bootstrap samples and compare performance?\n",
    "print(\"\\n15. Varying bootstrap sample sizes in Bagging Regressor\")\n",
    "for max_samples in [0.5, 0.7, 1.0]:\n",
    "    br = BaggingRegressor(n_estimators=50, max_samples=max_samples, random_state=42)\n",
    "    br.fit(Xr_train, yr_train)\n",
    "    mse = mean_squared_error(yr_test, br.predict(Xr_test))\n",
    "    print(f\"Max Samples: {max_samples}, MSE: {mse:.4f}\")"
   ]
  },
  {
   "cell_type": "code",
   "execution_count": null,
   "id": "07b67a25-f614-401c-9411-ef41f07e5e29",
   "metadata": {},
   "outputs": [],
   "source": []
  }
 ],
 "metadata": {
  "kernelspec": {
   "display_name": "Python 3 (ipykernel)",
   "language": "python",
   "name": "python3"
  },
  "language_info": {
   "codemirror_mode": {
    "name": "ipython",
    "version": 3
   },
   "file_extension": ".py",
   "mimetype": "text/x-python",
   "name": "python",
   "nbconvert_exporter": "python",
   "pygments_lexer": "ipython3",
   "version": "3.12.7"
  }
 },
 "nbformat": 4,
 "nbformat_minor": 5
}
